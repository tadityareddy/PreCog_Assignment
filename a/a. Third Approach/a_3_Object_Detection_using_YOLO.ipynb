{
  "nbformat": 4,
  "nbformat_minor": 0,
  "metadata": {
    "colab": {
      "provenance": []
    },
    "kernelspec": {
      "name": "python3",
      "display_name": "Python 3"
    },
    "language_info": {
      "name": "python"
    }
  },
  "cells": [
    {
      "cell_type": "code",
      "source": [
        "!pip install ultralytics"
      ],
      "metadata": {
        "id": "RAG7YtqDuigj",
        "colab": {
          "base_uri": "https://localhost:8080/"
        },
        "outputId": "89d5174e-fe2d-4ec1-d030-6550d4d1974c"
      },
      "execution_count": 1,
      "outputs": [
        {
          "output_type": "stream",
          "name": "stdout",
          "text": [
            "Successfully installed nvidia-cublas-cu12-12.1.3.1 nvidia-cuda-cupti-cu12-12.1.105 nvidia-cuda-nvrtc-cu12-12.1.105 nvidia-cuda-runtime-cu12-12.1.105 nvidia-cudnn-cu12-8.9.2.26 nvidia-cufft-cu12-11.0.2.54 nvidia-curand-cu12-10.3.2.106 nvidia-cusolver-cu12-11.4.5.107 nvidia-cusparse-cu12-12.1.0.106 nvidia-nccl-cu12-2.19.3 nvidia-nvjitlink-cu12-12.4.127 nvidia-nvtx-cu12-12.1.105 thop-0.1.1.post2209072238 ultralytics-8.2.11\n"
          ]
        }
      ]
    },
    {
      "cell_type": "code",
      "source": [
        "import csv\n",
        "import os\n",
        "import json\n",
        "from ultralytics import YOLO"
      ],
      "metadata": {
        "id": "6t-QWp02uZiU"
      },
      "execution_count": 66,
      "outputs": []
    },
    {
      "cell_type": "code",
      "source": [
        "detectionmodel = YOLO('yolov8n.pt')"
      ],
      "metadata": {
        "id": "jXnjebY1vS3Q"
      },
      "execution_count": 8,
      "outputs": []
    },
    {
      "cell_type": "code",
      "execution_count": 67,
      "metadata": {
        "id": "iq2fAj3HJgRB"
      },
      "outputs": [],
      "source": [
        "def detections(json_file_path):\n",
        "    \"\"\"\n",
        "    Append detected objects and their labels from a JSON file to a CSV catalog.\n",
        "\n",
        "    Parameters:\n",
        "    - json_file_path (str): Path to the JSON file containing image paths and labels.\n",
        "    - detectionmodel: The object representing the YOLO detection model.\n",
        "\n",
        "    Returns:\n",
        "    - List of dictionaries containing the detected objects with their labels and confidence.\n",
        "    \"\"\"\n",
        "    # Read JSON file\n",
        "    with open(json_file_path, 'r') as json_file:\n",
        "        data = json.load(json_file)\n",
        "\n",
        "    # Define a list to store the detected objects with their labels and confidence\n",
        "    detected_objects_list = []\n",
        "\n",
        "    # Iterate through each entry in the JSON file\n",
        "    for entry in data:\n",
        "        # Extract image path and label from JSON data\n",
        "        image_path = entry['img']\n",
        "        ground_truth_label = entry['label']\n",
        "\n",
        "        # Predict with the model\n",
        "        detection_results = detectionmodel(image_path)\n",
        "        boxes = detection_results[0].boxes\n",
        "        class_names = detection_results[0].names\n",
        "\n",
        "        for box in boxes:\n",
        "            # Extracting class index, confidence score, and ground truth label\n",
        "            class_index = box.cls.cpu().numpy()\n",
        "            confidence = box.conf.cpu().numpy()\n",
        "            ground_truth_label = [class_names[i] for i in class_index]\n",
        "\n",
        "            detected_objects_list.append({\n",
        "                'Image': image_path,\n",
        "                'Object': ground_truth_label,\n",
        "                'Confidence': confidence,\n",
        "                'Ground Truth Label': ground_truth_label\n",
        "            })\n",
        "\n",
        "    return detected_objects_list"
      ]
    },
    {
      "cell_type": "code",
      "source": [
        "# Example usage\n",
        "json_file_path = '/content/json.json'\n",
        "detectionmodel = YOLO('yolov8n.pt')\n",
        "detected_objects = detections(json_file_path)\n",
        "print(detected_objects)"
      ],
      "metadata": {
        "colab": {
          "base_uri": "https://localhost:8080/"
        },
        "id": "H8mOI_rb6IbV",
        "outputId": "5e8f0126-3950-4430-ea81-a597fb558af6"
      },
      "execution_count": 69,
      "outputs": [
        {
          "output_type": "stream",
          "name": "stdout",
          "text": [
            "\n",
            "image 1/1 /content/01235.png: 448x640 1 person, 197.0ms\n",
            "Speed: 4.1ms preprocess, 197.0ms inference, 1.9ms postprocess per image at shape (1, 3, 448, 640)\n",
            "\n",
            "image 1/1 /content/01236.png: 640x576 6 persons, 1 horse, 6 sheeps, 237.2ms\n",
            "Speed: 4.8ms preprocess, 237.2ms inference, 4.3ms postprocess per image at shape (1, 3, 640, 576)\n",
            "[{'Image': '/content/01235.png', 'Object': ['person'], 'Confidence': array([    0.96653], dtype=float32), 'Ground Truth Label': ['person']}, {'Image': '/content/01236.png', 'Object': ['person'], 'Confidence': array([    0.75815], dtype=float32), 'Ground Truth Label': ['person']}, {'Image': '/content/01236.png', 'Object': ['person'], 'Confidence': array([    0.70568], dtype=float32), 'Ground Truth Label': ['person']}, {'Image': '/content/01236.png', 'Object': ['horse'], 'Confidence': array([    0.58712], dtype=float32), 'Ground Truth Label': ['horse']}, {'Image': '/content/01236.png', 'Object': ['person'], 'Confidence': array([    0.50091], dtype=float32), 'Ground Truth Label': ['person']}, {'Image': '/content/01236.png', 'Object': ['sheep'], 'Confidence': array([    0.48118], dtype=float32), 'Ground Truth Label': ['sheep']}, {'Image': '/content/01236.png', 'Object': ['person'], 'Confidence': array([    0.46822], dtype=float32), 'Ground Truth Label': ['person']}, {'Image': '/content/01236.png', 'Object': ['sheep'], 'Confidence': array([    0.46252], dtype=float32), 'Ground Truth Label': ['sheep']}, {'Image': '/content/01236.png', 'Object': ['sheep'], 'Confidence': array([    0.36762], dtype=float32), 'Ground Truth Label': ['sheep']}, {'Image': '/content/01236.png', 'Object': ['person'], 'Confidence': array([    0.33579], dtype=float32), 'Ground Truth Label': ['person']}, {'Image': '/content/01236.png', 'Object': ['sheep'], 'Confidence': array([    0.32556], dtype=float32), 'Ground Truth Label': ['sheep']}, {'Image': '/content/01236.png', 'Object': ['sheep'], 'Confidence': array([     0.2777], dtype=float32), 'Ground Truth Label': ['sheep']}, {'Image': '/content/01236.png', 'Object': ['person'], 'Confidence': array([    0.26241], dtype=float32), 'Ground Truth Label': ['person']}, {'Image': '/content/01236.png', 'Object': ['sheep'], 'Confidence': array([     0.2592], dtype=float32), 'Ground Truth Label': ['sheep']}]\n"
          ]
        }
      ]
    },
    {
      "cell_type": "code",
      "source": [
        "# Assuming your JSON file is named 'data.json'\n",
        "json_file_path = 'json.json'\n",
        "\n",
        "# Open the JSON file and read its contents\n",
        "with open(json_file_path, 'r') as file:\n",
        "    json_data = json.load(file)\n",
        "\n",
        "# Now json_data contains the JSON data from the file\n",
        "\n",
        "csv_data = detected_objects\n",
        "\n",
        "# Create a dictionary to map image paths to labels\n",
        "label_map = {data['img']: data['label'] for data in json_data}\n",
        "\n",
        "# Update Ground Truth Label in csv_data\n",
        "for data in csv_data:\n",
        "    img_path = data['Image']\n",
        "    if img_path in label_map:\n",
        "        data['Ground Truth Label'] = label_map[img_path]\n",
        "\n",
        "# Specify the file name\n",
        "file_name = \"./data.csv\"\n",
        "\n",
        "# Specify the fieldnames\n",
        "fieldnames = ['Image', 'Object', 'Confidence', 'Ground Truth Label']\n",
        "\n",
        "# Remove the existing file if it exists\n",
        "if os.path.exists(file_name):\n",
        "    os.remove(file_name)\n",
        "\n",
        "# Writing data to CSV file\n",
        "with open(file_name, mode='w', newline='') as file:\n",
        "    writer = csv.DictWriter(file, fieldnames=fieldnames)\n",
        "    writer.writeheader()\n",
        "    # Write data rows\n",
        "    writer.writerows(csv_data)\n",
        "\n",
        "print(\"Data written to CSV file successfully.\")\n"
      ],
      "metadata": {
        "colab": {
          "base_uri": "https://localhost:8080/"
        },
        "id": "u1yA-SuU4LfD",
        "outputId": "33c6a365-2316-4d80-d858-acbabc026003"
      },
      "execution_count": 71,
      "outputs": [
        {
          "output_type": "stream",
          "name": "stdout",
          "text": [
            "Data written to CSV file successfully.\n"
          ]
        }
      ]
    },
    {
      "cell_type": "code",
      "source": [
        "import csv\n",
        "\n",
        "def load_csv_data(csv_file_path):\n",
        "    \"\"\"\n",
        "    Load data from a CSV file.\n",
        "\n",
        "    Parameters:\n",
        "    - csv_file_path (str): Path to the CSV file.\n",
        "\n",
        "    Returns:\n",
        "    - List of dictionaries containing the data from the CSV file.\n",
        "    \"\"\"\n",
        "    data = []\n",
        "\n",
        "    # Read data from CSV file\n",
        "    with open(csv_file_path, 'r') as file:\n",
        "        reader = csv.DictReader(file)\n",
        "        for row in reader:\n",
        "            data.append(row)\n",
        "\n",
        "    return data\n",
        "\n",
        "# Example usage\n",
        "csv_file_path = '/content/data.csv'\n",
        "csv_data = load_csv_data(csv_file_path)\n",
        "\n",
        "# Print the loaded data\n",
        "for row in csv_data:\n",
        "    print(row)"
      ],
      "metadata": {
        "colab": {
          "base_uri": "https://localhost:8080/"
        },
        "id": "-SQuVhGU60y_",
        "outputId": "bf7ed029-10c1-4dcd-8b26-4bb71ac08eee"
      },
      "execution_count": 72,
      "outputs": [
        {
          "output_type": "stream",
          "name": "stdout",
          "text": [
            "{'Image': '/content/01235.png', 'Object': \"['person']\", 'Confidence': '[    0.96653]', 'Ground Truth Label': 'hateful'}\n",
            "{'Image': '/content/01236.png', 'Object': \"['person']\", 'Confidence': '[    0.75815]', 'Ground Truth Label': 'non-hateful'}\n",
            "{'Image': '/content/01236.png', 'Object': \"['person']\", 'Confidence': '[    0.70568]', 'Ground Truth Label': 'non-hateful'}\n",
            "{'Image': '/content/01236.png', 'Object': \"['horse']\", 'Confidence': '[    0.58712]', 'Ground Truth Label': 'non-hateful'}\n",
            "{'Image': '/content/01236.png', 'Object': \"['person']\", 'Confidence': '[    0.50091]', 'Ground Truth Label': 'non-hateful'}\n",
            "{'Image': '/content/01236.png', 'Object': \"['sheep']\", 'Confidence': '[    0.48118]', 'Ground Truth Label': 'non-hateful'}\n",
            "{'Image': '/content/01236.png', 'Object': \"['person']\", 'Confidence': '[    0.46822]', 'Ground Truth Label': 'non-hateful'}\n",
            "{'Image': '/content/01236.png', 'Object': \"['sheep']\", 'Confidence': '[    0.46252]', 'Ground Truth Label': 'non-hateful'}\n",
            "{'Image': '/content/01236.png', 'Object': \"['sheep']\", 'Confidence': '[    0.36762]', 'Ground Truth Label': 'non-hateful'}\n",
            "{'Image': '/content/01236.png', 'Object': \"['person']\", 'Confidence': '[    0.33579]', 'Ground Truth Label': 'non-hateful'}\n",
            "{'Image': '/content/01236.png', 'Object': \"['sheep']\", 'Confidence': '[    0.32556]', 'Ground Truth Label': 'non-hateful'}\n",
            "{'Image': '/content/01236.png', 'Object': \"['sheep']\", 'Confidence': '[     0.2777]', 'Ground Truth Label': 'non-hateful'}\n",
            "{'Image': '/content/01236.png', 'Object': \"['person']\", 'Confidence': '[    0.26241]', 'Ground Truth Label': 'non-hateful'}\n",
            "{'Image': '/content/01236.png', 'Object': \"['sheep']\", 'Confidence': '[     0.2592]', 'Ground Truth Label': 'non-hateful'}\n"
          ]
        }
      ]
    },
    {
      "cell_type": "code",
      "source": [],
      "metadata": {
        "id": "-2Kwut4U69nD"
      },
      "execution_count": null,
      "outputs": []
    }
  ]
}