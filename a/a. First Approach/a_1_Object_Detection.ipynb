{
  "nbformat": 4,
  "nbformat_minor": 0,
  "metadata": {
    "colab": {
      "provenance": []
    },
    "kernelspec": {
      "name": "python3",
      "display_name": "Python 3"
    },
    "language_info": {
      "name": "python"
    }
  },
  "cells": [
    {
      "cell_type": "code",
      "source": [
        "!pip install -q transformers"
      ],
      "metadata": {
        "id": "ZP_Ko9LC_SyL"
      },
      "execution_count": null,
      "outputs": []
    },
    {
      "cell_type": "code",
      "source": [
        "!pip install -q torch torchvision"
      ],
      "metadata": {
        "id": "zMJeUNUf_VBi"
      },
      "execution_count": null,
      "outputs": []
    },
    {
      "cell_type": "code",
      "source": [
        "!pip install -q pillow"
      ],
      "metadata": {
        "id": "vWE6PpMv_Uy9"
      },
      "execution_count": null,
      "outputs": []
    },
    {
      "cell_type": "code",
      "source": [
        "from transformers import DetrImageProcessor, DetrForObjectDetection\n",
        "import torch\n",
        "from PIL import Image\n",
        "import os\n",
        "from collections import Counter"
      ],
      "metadata": {
        "id": "DSdoq22J9o7R"
      },
      "execution_count": null,
      "outputs": []
    },
    {
      "cell_type": "code",
      "execution_count": null,
      "metadata": {
        "id": "HQOguM4g9nGu"
      },
      "outputs": [],
      "source": [
        "def process_images(base_folder_path, categories):\n",
        "    \"\"\"\n",
        "    Process images in specified categories and generate detection results and object frequency analysis.\n",
        "\n",
        "    Args:\n",
        "    - base_folder_path (str): Base folder path containing image categories.\n",
        "    - categories (list): List of categories to process.\n",
        "\n",
        "    Returns:\n",
        "    - output_file_paths (list): List containing paths of the output files generated.\n",
        "    \"\"\"\n",
        "\n",
        "    # Initialize DETR model and image processor\n",
        "    processor = DetrImageProcessor.from_pretrained(\"facebook/detr-resnet-50\", revision=\"no_timm\")\n",
        "    model = DetrForObjectDetection.from_pretrained(\"facebook/detr-resnet-50\", revision=\"no_timm\")\n",
        "\n",
        "    output_file_paths = []  # List to store paths of output files generated\n",
        "\n",
        "    for category in categories:\n",
        "        current_folder_path = os.path.join(base_folder_path, category)\n",
        "\n",
        "        # Define output file paths\n",
        "        output_file_path = f\"output_results_{category}.txt\"\n",
        "        frequency_file_path = f\"object_frequency_{category}.txt\"\n",
        "\n",
        "        # Counter to keep track of object frequencies\n",
        "        object_counter = Counter()\n",
        "\n",
        "        with open(output_file_path, \"w\") as output_file:\n",
        "            # Iterate through images in current category\n",
        "            for img_path in os.listdir(current_folder_path):\n",
        "                full_img_path = os.path.join(current_folder_path, img_path)\n",
        "\n",
        "                # Open and preprocess image\n",
        "                image = Image.open(full_img_path).convert(\"RGB\")\n",
        "                inputs = processor(images=image, return_tensors=\"pt\", input_data_format=\"channels_last\")\n",
        "\n",
        "                # Perform inference\n",
        "                outputs = model(**inputs)\n",
        "\n",
        "                # Convert outputs to COCO API format with threshold > 0.9\n",
        "                target_sizes = torch.tensor([image.size[::-1]])\n",
        "                results = processor.post_process_object_detection(outputs, target_sizes=target_sizes, threshold=0.9)[0]\n",
        "\n",
        "                # Write image path to output file\n",
        "                output_file.write(f\"Image - {full_img_path} :\\n\")\n",
        "\n",
        "                # Write detection results into output file and update counter\n",
        "                for score, label, box in zip(results[\"scores\"], results[\"labels\"], results[\"boxes\"]):\n",
        "                    detected_object = model.config.id2label[label.item()]\n",
        "                    object_counter[detected_object] += 1\n",
        "                    box = [round(i, 2) for i in box.tolist()]\n",
        "                    output_file.write(f\"Detected {detected_object} with confidence {round(score.item(), 3)} at location {box}\\n\")\n",
        "\n",
        "                output_file.write(\"\\n\")\n",
        "\n",
        "        # Write object frequency analysis to separate file\n",
        "        with open(frequency_file_path, \"w\") as freq_file:\n",
        "            for object, count in object_counter.most_common():\n",
        "                freq_file.write(f\"{object}: {count}\\n\")\n",
        "\n",
        "        output_file_paths.extend([output_file_path, frequency_file_path])  # Add output file paths to the list\n",
        "\n",
        "        print(f\"Detection results and object frequency analysis for {category} saved.\")\n",
        "\n",
        "    return output_file_paths  # Return list of output file paths"
      ]
    },
    {
      "cell_type": "code",
      "source": [
        "# Define base folder path containing image categories\n",
        "base_folder_path = '/Users/aditya/Desktop/task/hateful_memes/img'"
      ],
      "metadata": {
        "id": "IGoU7oym9qq_"
      },
      "execution_count": null,
      "outputs": []
    },
    {
      "cell_type": "code",
      "source": [
        "# Define classifying categories\n",
        "categories = [\"hateful_memes\", \"not_hateful_memes\"]"
      ],
      "metadata": {
        "id": "R4N-p7zW9sAa"
      },
      "execution_count": null,
      "outputs": []
    },
    {
      "cell_type": "code",
      "source": [
        "# Process images and get output file paths\n",
        "output_paths = process_images(base_folder_path, categories)"
      ],
      "metadata": {
        "id": "n1TnhQDZ9ugl"
      },
      "execution_count": null,
      "outputs": []
    },
    {
      "cell_type": "code",
      "source": [
        "# Print paths of the output files generated\n",
        "print(\"Output file paths:\")\n",
        "for path in output_paths:\n",
        "    print(path)"
      ],
      "metadata": {
        "id": "8EqcgXi09tdI"
      },
      "execution_count": null,
      "outputs": []
    }
  ]
}